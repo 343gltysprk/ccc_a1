{
 "cells": [
  {
   "cell_type": "code",
   "execution_count": 1,
   "metadata": {},
   "outputs": [],
   "source": [
    "import json\n",
    "#this function read the coordinates of each grid\n",
    "def read_grids(file_path):\n",
    "    f = open(file_path,'r')\n",
    "    grids = json.load(f)\n",
    "    coordinates = []\n",
    "    for i in grids['features']:\n",
    "        coordinates.append(i['geometry']['coordinates'][0])\n",
    "    return coordinates\n",
    "    "
   ]
  },
  {
   "cell_type": "code",
   "execution_count": 2,
   "metadata": {},
   "outputs": [],
   "source": [
    "sydgrid = read_grids('sydGrid.json')\n",
    "#print(sydgrid)"
   ]
  },
  {
   "cell_type": "code",
   "execution_count": 3,
   "metadata": {},
   "outputs": [
    {
     "name": "stdout",
     "output_type": "stream",
     "text": [
      "{\"total_rows\":1000,\"rows\":[\n",
      "{\"total_rows\":1000,\"rows\":0}\n",
      "1000\n"
     ]
    }
   ],
   "source": [
    "twitter = open('tinyTwitter.json','r',errors='ignore')\n",
    "first = twitter.readline().strip()\n",
    "print(first)\n",
    "first = first[:-1]\n",
    "first += '0}'\n",
    "print(first)\n",
    "total_row = json.loads(first)['total_rows']\n",
    "print(total_row)"
   ]
  },
  {
   "cell_type": "code",
   "execution_count": 4,
   "metadata": {},
   "outputs": [],
   "source": [
    "#read n tweets\n",
    "def read_tweets(file,n):\n",
    "    output = []\n",
    "    for i in range(0,n):\n",
    "        tweet = file.readline().strip()\n",
    "        output.append(tweet[:-1])\n",
    "    return output"
   ]
  },
  {
   "cell_type": "code",
   "execution_count": 5,
   "metadata": {},
   "outputs": [],
   "source": [
    "tweets = read_tweets(twitter,998)"
   ]
  },
  {
   "cell_type": "code",
   "execution_count": 6,
   "metadata": {},
   "outputs": [
    {
     "name": "stdout",
     "output_type": "stream",
     "text": [
      "{\"id\":\"1212161512334336000\",\"key\":[\"sydney\",2020,1,1],\"value\":1,\"doc\":{\"_id\":\"1212161512334336000\",\"_rev\":\"1-a51c37b5a85cf6a96735628afbea2c75\",\"created_at\":\"Wed Jan 01 00:00:00 +0000 2020\",\"id\":1212161512334336000,\"id_str\":\"1212161512334336000\",\"text\":\"@La_Doine Pues ahora si, feliz 2020 馃帄\",\"truncated\":false,\"entities\":{\"hashtags\":[],\"symbols\":[],\"user_mentions\":[{\"screen_name\":\"La_Doine\",\"name\":\"Star\",\"id\":320174862,\"id_str\":\"320174862\",\"indices\":[0,9]}],\"urls\":[]},\"metadata\":{\"iso_language_code\":\"es\",\"result_type\":\"recent\"},\"source\":\"<a href=\\\"https://mobile.twitter.com\\\" rel=\\\"nofollow\\\">Twitter Web App</a>\",\"in_reply_to_status_id\":1212157896512942000,\"in_reply_to_status_id_str\":\"1212157896512942080\",\"in_reply_to_user_id\":320174862,\"in_reply_to_user_id_str\":\"320174862\",\"in_reply_to_screen_name\":\"La_Doine\",\"user\":{\"id\":1011510954406961200,\"id_str\":\"1011510954406961153\",\"name\":\"AySe帽orQueNosComenLosMonguers\",\"screen_name\":\"BocataJamonEHM\",\"location\":\"Calle Wallaby 42 Sidney\",\"description\":\"Intento de humorista fallido reconvertido en payaso de baja autoestima y gran coraz贸n,no me muero de la pereza que me da.\",\"url\":null,\"entities\":{\"description\":{\"urls\":[]}},\"protected\":false,\"followers_count\":12245,\"friends_count\":144,\"listed_count\":43,\"created_at\":\"Tue Jun 26 07:26:19 +0000 2018\",\"favourites_count\":59819,\"utc_offset\":null,\"time_zone\":null,\"geo_enabled\":false,\"verified\":false,\"statuses_count\":29587,\"lang\":null,\"contributors_enabled\":false,\"is_translator\":false,\"is_translation_enabled\":false,\"profile_background_color\":\"F5F8FA\",\"profile_background_image_url\":null,\"profile_background_image_url_https\":null,\"profile_background_tile\":false,\"profile_image_url\":\"http://pbs.twimg.com/profile_images/1011512550989721601/nK-Sajra_normal.jpg\",\"profile_image_url_https\":\"https://pbs.twimg.com/profile_images/1011512550989721601/nK-Sajra_normal.jpg\",\"profile_banner_url\":\"https://pbs.twimg.com/profile_banners/1011510954406961153/1529998634\",\"profile_link_color\":\"1DA1F2\",\"profile_sidebar_border_color\":\"C0DEED\",\"profile_sidebar_fill_color\":\"DDEEF6\",\"profile_text_color\":\"333333\",\"profile_use_background_image\":true,\"has_extended_profile\":true,\"default_profile\":true,\"default_profile_image\":false,\"following\":false,\"follow_request_sent\":false,\"notifications\":false,\"translator_type\":\"none\"},\"geo\":null,\"coordinates\":null,\"place\":null,\"contributors\":null,\"is_quote_status\":false,\"retweet_count\":0,\"favorite_count\":0,\"favorited\":false,\"retweeted\":false,\"lang\":\"es\",\"location\":\"sydney\"}}\n"
     ]
    }
   ],
   "source": [
    "print(tweets[0])"
   ]
  },
  {
   "cell_type": "code",
   "execution_count": 7,
   "metadata": {},
   "outputs": [],
   "source": [
    "corr = json.loads(tweets[0])"
   ]
  },
  {
   "cell_type": "code",
   "execution_count": 8,
   "metadata": {},
   "outputs": [],
   "source": [
    "def inside(point,box):\n",
    "    if point[0]>=box[0][0] and point[0]<=box[1][0] and point[1]>=box[2][1] and point[1]<=box[0][1]:\n",
    "        return True\n",
    "    return False"
   ]
  },
  {
   "cell_type": "code",
   "execution_count": 9,
   "metadata": {},
   "outputs": [],
   "source": [
    "def get_language(tweet,grid):\n",
    "    valid = []\n",
    "    length = len(grid)\n",
    "    for i in range(0,length):\n",
    "        valid.append([])\n",
    "    for i in tweet:\n",
    "        temp = json.loads(i)\n",
    "        if temp['doc']['coordinates'] != None:\n",
    "            point = temp['doc']['coordinates']['coordinates']\n",
    "            for j in range(0,length):\n",
    "                if inside(point,grid[j]) is True:\n",
    "                    valid[j].append(temp['doc']['lang'])\n",
    "    return valid"
   ]
  },
  {
   "cell_type": "code",
   "execution_count": 10,
   "metadata": {},
   "outputs": [],
   "source": [
    "a = get_language(tweets,sydgrid)"
   ]
  },
  {
   "cell_type": "code",
   "execution_count": 11,
   "metadata": {},
   "outputs": [
    {
     "name": "stdout",
     "output_type": "stream",
     "text": [
      "[[149.79255080532937, -32.81644989181766], [150.34255080532938, -32.81644989181766], [150.34255080532938, -33.31644989181766], [149.79255080532937, -33.31644989181766], [149.79255080532937, -32.81644989181766]]\n"
     ]
    }
   ],
   "source": [
    "print(sydgrid[0])"
   ]
  },
  {
   "cell_type": "code",
   "execution_count": 12,
   "metadata": {},
   "outputs": [
    {
     "name": "stdout",
     "output_type": "stream",
     "text": [
      "[[], [], [], [], [], [], [], [], [], [], ['en', 'en'], [], [], [], [], []]\n"
     ]
    }
   ],
   "source": [
    "print(a)"
   ]
  },
  {
   "cell_type": "code",
   "execution_count": 13,
   "metadata": {},
   "outputs": [
    {
     "name": "stdout",
     "output_type": "stream",
     "text": [
      "{\"id\":\"1212162005177491456\",\"key\":[\"sydney\",2020,1,1],\"value\":1,\"doc\":{\"_id\":\"1212162005177491456\",\"_rev\":\"1-32db2565cca6e81596a7b1a66559ed74\",\"created_at\":\"Wed Jan 01 00:01:57 +0000 2020\",\"id\":1212162005177491500,\"id_str\":\"1212162005177491456\",\"text\":\"Safe travels... come back VERY soon! https://t.co/AMzxA4wg8U\",\"truncated\":false,\"entities\":{\"hashtags\":[],\"symbols\":[],\"user_mentions\":[],\"urls\":[{\"url\":\"https://t.co/AMzxA4wg8U\",\"expanded_url\":\"https://twitter.com/mariesornin/status/1212158705053184001\",\"display_url\":\"twitter.com/mariesornin/st鈥\",\"indices\":[37,60]}]},\"metadata\":{\"iso_language_code\":\"en\",\"result_type\":\"recent\"},\"source\":\"<a href=\\\"https://mobile.twitter.com\\\" rel=\\\"nofollow\\\">Twitter Web App</a>\",\"in_reply_to_status_id\":null,\"in_reply_to_status_id_str\":null,\"in_reply_to_user_id\":null,\"in_reply_to_user_id_str\":null,\"in_reply_to_screen_name\":null,\"user\":{\"id\":25391067,\"id_str\":\"25391067\",\"name\":\"岽樖溕薀 散岽徥忈磭纱\",\"screen_name\":\"PhilGoyen\",\"location\":\"Sydney, New South Wales\",\"description\":\"Exec Producer 7NEWS Digital | Exec Producer The Latest on @FacebookWatch | Fmr: Producer/Platform Partnerships @NextVR, L.A.| Snr International Producer @60mins\",\"url\":\"https://t.co/dVPe2p6YCl\",\"entities\":{\"url\":{\"urls\":[{\"url\":\"https://t.co/dVPe2p6YCl\",\"expanded_url\":\"http://7NEWS.com.au\",\"display_url\":\"7NEWS.com.au\",\"indices\":[0,23]}]},\"description\":{\"urls\":[]}},\"protected\":false,\"followers_count\":1556,\"friends_count\":900,\"listed_count\":24,\"created_at\":\"Thu Mar 19 21:37:31 +0000 2009\",\"favourites_count\":2510,\"utc_offset\":null,\"time_zone\":null,\"geo_enabled\":false,\"verified\":true,\"statuses_count\":5601,\"lang\":null,\"contributors_enabled\":false,\"is_translator\":false,\"is_translation_enabled\":false,\"profile_background_color\":\"000000\",\"profile_background_image_url\":\"http://abs.twimg.com/images/themes/theme2/bg.gif\",\"profile_background_image_url_https\":\"https://abs.twimg.com/images/themes/theme2/bg.gif\",\"profile_background_tile\":false,\"profile_image_url\":\"http://pbs.twimg.com/profile_images/1184622996956139520/_NSgvHOS_normal.jpg\",\"profile_image_url_https\":\"https://pbs.twimg.com/profile_images/1184622996956139520/_NSgvHOS_normal.jpg\",\"profile_banner_url\":\"https://pbs.twimg.com/profile_banners/25391067/1544073524\",\"profile_link_color\":\"1B95E0\",\"profile_sidebar_border_color\":\"000000\",\"profile_sidebar_fill_color\":\"000000\",\"profile_text_color\":\"000000\",\"profile_use_background_image\":false,\"has_extended_profile\":false,\"default_profile\":false,\"default_profile_image\":false,\"following\":false,\"follow_request_sent\":false,\"notifications\":false,\"translator_type\":\"none\"},\"geo\":null,\"coordinates\":null,\"place\":null,\"contributors\":null,\"is_quote_status\":true,\"quoted_status_id\":1212158705053184000,\"quoted_status_id_str\":\"1212158705053184001\",\"quoted_status\":{\"created_at\":\"Tue Dec 31 23:48:50 +0000 2019\",\"id\":1212158705053184000,\"id_str\":\"1212158705053184001\",\"text\":\"Setting the tone for the year ahead with @delta 鈥渢his is the 1st flight of the decade to #LAX, our flight time will鈥 https://t.co/OhjHvX02ut\",\"truncated\":true,\"entities\":{\"hashtags\":[{\"text\":\"LAX\",\"indices\":[89,93]}],\"symbols\":[],\"user_mentions\":[{\"screen_name\":\"Delta\",\"name\":\"Delta\",\"id\":5920532,\"id_str\":\"5920532\",\"indices\":[41,47]}],\"urls\":[{\"url\":\"https://t.co/OhjHvX02ut\",\"expanded_url\":\"https://twitter.com/i/web/status/1212158705053184001\",\"display_url\":\"twitter.com/i/web/status/1鈥\",\"indices\":[117,140]}]},\"metadata\":{\"iso_language_code\":\"en\",\"result_type\":\"recent\"},\"source\":\"<a href=\\\"http://twitter.com/download/iphone\\\" rel=\\\"nofollow\\\">Twitter for iPhone</a>\",\"in_reply_to_status_id\":null,\"in_reply_to_status_id_str\":null,\"in_reply_to_user_id\":null,\"in_reply_to_user_id_str\":null,\"in_reply_to_screen_name\":null,\"user\":{\"id\":18753685,\"id_str\":\"18753685\",\"name\":\"Marie Sorn in Sydney\",\"screen_name\":\"mariesornin\",\"location\":\"\",\"description\":\"\\\"The people who are crazy enough to think they can change the world are the ones who do.鈥 Growth & Revenue @nextVR. 馃嚝馃嚪 + 馃嚘馃嚭\",\"url\":\"https://t.co/H9sZNbIBBj\",\"entities\":{\"url\":{\"urls\":[{\"url\":\"https://t.co/H9sZNbIBBj\",\"expanded_url\":\"http://www.digitalcuisine.net\",\"display_url\":\"digitalcuisine.net\",\"indices\":[0,23]}]},\"description\":{\"urls\":[]}},\"protected\":false,\"followers_count\":3854,\"friends_count\":2864,\"listed_count\":194,\"created_at\":\"Thu Jan 08 04:31:05 +0000 2009\",\"favourites_count\":10326,\"utc_offset\":null,\"time_zone\":null,\"geo_enabled\":true,\"verified\":false,\"statuses_count\":15107,\"lang\":null,\"contributors_enabled\":false,\"is_translator\":false,\"is_translation_enabled\":false,\"profile_background_color\":\"BADFCD\",\"profile_background_image_url\":\"http://abs.twimg.com/images/themes/theme4/bg.gif\",\"profile_background_image_url_https\":\"https://abs.twimg.com/images/themes/theme4/bg.gif\",\"profile_background_tile\":true,\"profile_image_url\":\"http://pbs.twimg.com/profile_images/1152403458261213184/wLJ_xwod_normal.jpg\",\"profile_image_url_https\":\"https://pbs.twimg.com/profile_images/1152403458261213184/wLJ_xwod_normal.jpg\",\"profile_banner_url\":\"https://pbs.twimg.com/profile_banners/18753685/1562599500\",\"profile_link_color\":\"36C1CD\",\"profile_sidebar_border_color\":\"FFFFFF\",\"profile_sidebar_fill_color\":\"FFF7CC\",\"profile_text_color\":\"0C3E53\",\"profile_use_background_image\":true,\"has_extended_profile\":false,\"default_profile\":false,\"default_profile_image\":false,\"following\":false,\"follow_request_sent\":false,\"notifications\":false,\"translator_type\":\"regular\"},\"geo\":null,\"coordinates\":null,\"place\":{\"id\":\"0073b76548e5984f\",\"url\":\"https://api.twitter.com/1.1/geo/id/0073b76548e5984f.json\",\"place_type\":\"city\",\"name\":\"Sydney\",\"full_name\":\"Sydney, New South Wales\",\"country_code\":\"AU\",\"country\":\"Australia\",\"contained_within\":[],\"bounding_box\":{\"type\":\"Polygon\",\"coordinates\":[[[150.520928608,-34.1183470085],[151.343020992,-34.1183470085],[151.343020992,-33.578140996],[150.520928608,-33.578140996]]]},\"attributes\":{}},\"contributors\":null,\"is_quote_status\":false,\"retweet_count\":0,\"favorite_count\":1,\"favorited\":false,\"retweeted\":false,\"lang\":\"en\"},\"retweet_count\":0,\"favorite_count\":0,\"favorited\":false,\"retweeted\":false,\"possibly_sensitive\":false,\"lang\":\"en\",\"location\":\"sydney\"}}\n"
     ]
    }
   ],
   "source": [
    "print(tweets[56])\n",
    "#how do we deal with this tweet?"
   ]
  },
  {
   "cell_type": "code",
   "execution_count": null,
   "metadata": {},
   "outputs": [],
   "source": []
  }
 ],
 "metadata": {
  "kernelspec": {
   "display_name": "Python 3",
   "language": "python",
   "name": "python3"
  },
  "language_info": {
   "codemirror_mode": {
    "name": "ipython",
    "version": 3
   },
   "file_extension": ".py",
   "mimetype": "text/x-python",
   "name": "python",
   "nbconvert_exporter": "python",
   "pygments_lexer": "ipython3",
   "version": "3.8.5"
  }
 },
 "nbformat": 4,
 "nbformat_minor": 4
}
