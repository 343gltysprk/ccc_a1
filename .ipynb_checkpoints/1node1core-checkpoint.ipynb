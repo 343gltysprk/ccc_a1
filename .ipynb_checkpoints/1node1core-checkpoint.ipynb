{
 "cells": [
  {
   "cell_type": "code",
   "execution_count": 1,
   "metadata": {},
   "outputs": [],
   "source": [
    "import json\n",
    "#this function read the coordinates of each grid\n",
    "def read_grids(file_path):\n",
    "    f = open(file_path,'r')\n",
    "    grids = json.load(f)\n",
    "    coordinates = []\n",
    "    for i in grids['features']:\n",
    "        print(i['geometry']['coordinates'][0])\n",
    "        coordinates.append(i['geometry']['coordinates'][0])\n",
    "    return coordinates\n",
    "    "
   ]
  },
  {
   "cell_type": "code",
   "execution_count": 2,
   "metadata": {},
   "outputs": [
    {
     "name": "stdout",
     "output_type": "stream",
     "text": [
      "[[151.2155, -33.85412], [151.2155, -34.00412], [151.3655, -34.00412], [151.3655, -33.85412], [151.2155, -33.85412]]\n",
      "[[151.2155, -33.70412], [151.2155, -33.85412], [151.3655, -33.85412], [151.3655, -33.70412], [151.2155, -33.70412]]\n",
      "[[151.2155, -33.55412], [151.2155, -33.70412], [151.3655, -33.70412], [151.3655, -33.55412], [151.2155, -33.55412]]\n",
      "[[151.0655, -34.00412], [151.0655, -34.15412], [151.2155, -34.15412], [151.2155, -34.00412], [151.0655, -34.00412]]\n",
      "[[151.0655, -33.85412], [151.0655, -34.00412], [151.2155, -34.00412], [151.2155, -33.85412], [151.0655, -33.85412]]\n",
      "[[151.0655, -33.70412], [151.0655, -33.85412], [151.2155, -33.85412], [151.2155, -33.70412], [151.0655, -33.70412]]\n",
      "[[151.0655, -33.55412], [151.0655, -33.70412], [151.2155, -33.70412], [151.2155, -33.55412], [151.0655, -33.55412]]\n",
      "[[150.9155, -34.00412], [150.9155, -34.15412], [151.0655, -34.15412], [151.0655, -34.00412], [150.9155, -34.00412]]\n",
      "[[150.9155, -33.85412], [150.9155, -34.00412], [151.0655, -34.00412], [151.0655, -33.85412], [150.9155, -33.85412]]\n",
      "[[150.9155, -33.70412], [150.9155, -33.85412], [151.0655, -33.85412], [151.0655, -33.70412], [150.9155, -33.70412]]\n",
      "[[150.9155, -33.55412], [150.9155, -33.70412], [151.0655, -33.70412], [151.0655, -33.55412], [150.9155, -33.55412]]\n",
      "[[150.7655, -34.00412], [150.7655, -34.15412], [150.9155, -34.15412], [150.9155, -34.00412], [150.7655, -34.00412]]\n",
      "[[150.7655, -33.85412], [150.7655, -34.00412], [150.9155, -34.00412], [150.9155, -33.85412], [150.7655, -33.85412]]\n",
      "[[150.7655, -33.70412], [150.7655, -33.85412], [150.9155, -33.85412], [150.9155, -33.70412], [150.7655, -33.70412]]\n",
      "[[150.7655, -33.55412], [150.7655, -33.70412], [150.9155, -33.70412], [150.9155, -33.55412], [150.7655, -33.55412]]\n",
      "[[151.2155, -34.00412], [151.2155, -34.15412], [151.3655, -34.15412], [151.3655, -34.00412], [151.2155, -34.00412]]\n"
     ]
    }
   ],
   "source": [
    "sydgrid = read_grids('sydGrid.json')\n",
    "#print(sydgrid)"
   ]
  },
  {
   "cell_type": "code",
   "execution_count": 3,
   "metadata": {},
   "outputs": [
    {
     "name": "stdout",
     "output_type": "stream",
     "text": [
      "{\"total_rows\":1000,\"rows\":[\n",
      "{\"total_rows\":1000,\"rows\":0}\n"
     ]
    }
   ],
   "source": [
    "twitter = open('smallTwitter.json','r',errors='ignore')\n",
    "first = twitter.readline().strip()\n",
    "print(first)\n",
    "first = first[:-1]\n",
    "first += '0}'\n",
    "print(first)\n",
    "total_row = json.loads(first)['total_rows']\n",
    "total_row -= 1"
   ]
  },
  {
   "cell_type": "code",
   "execution_count": 4,
   "metadata": {},
   "outputs": [],
   "source": [
    "#read n tweets\n",
    "def read_tweets(file,n):\n",
    "    output = []\n",
    "    for i in range(0,n):\n",
    "        tweet = file.readline().strip()\n",
    "        if tweet[-1] == ',':\n",
    "            output.append(tweet[:-1])\n",
    "        else:\n",
    "            output.append(tweet[:-2])\n",
    "    return output"
   ]
  },
  {
   "cell_type": "code",
   "execution_count": 5,
   "metadata": {},
   "outputs": [],
   "source": [
    "#master node, combine all result\n",
    "def update_lang(main,new):\n",
    "    for i in range(0,len(main)):\n",
    "        for j in new[i]:\n",
    "            if j in main[i]:\n",
    "                main[i][j]+=new[i][j]\n",
    "            else:\n",
    "                main[i][j]=new[i][j]\n",
    "    return main"
   ]
  },
  {
   "cell_type": "code",
   "execution_count": 6,
   "metadata": {},
   "outputs": [],
   "source": [
    "main_dict = []\n",
    "for i in range(0,len(sydgrid)):\n",
    "    main_dict.append({})"
   ]
  },
  {
   "cell_type": "code",
   "execution_count": 7,
   "metadata": {},
   "outputs": [
    {
     "data": {
      "text/plain": [
       "'\\nwhile total_row>1:\\n    tweets = []\\n    if total_row>1000:\\n        tweets = read_tweets(twitter,1000)\\n        total_row-=1000\\n    else:\\n        tweets = read_tweets(twitter,total_row-1)\\n        total_row=1\\n    lang = get_language(tweets,sydgrid)\\n    main_dict = update_lang(main_dict,lang)\\n'"
      ]
     },
     "execution_count": 7,
     "metadata": {},
     "output_type": "execute_result"
    }
   ],
   "source": [
    "#tweets = read_tweets(twitter,3000)\n",
    "'''\n",
    "while total_row>1:\n",
    "    tweets = []\n",
    "    if total_row>1000:\n",
    "        tweets = read_tweets(twitter,1000)\n",
    "        total_row-=1000\n",
    "    else:\n",
    "        tweets = read_tweets(twitter,total_row-1)\n",
    "        total_row=1\n",
    "    lang = get_language(tweets,sydgrid)\n",
    "    main_dict = update_lang(main_dict,lang)\n",
    "'''"
   ]
  },
  {
   "cell_type": "code",
   "execution_count": 8,
   "metadata": {},
   "outputs": [],
   "source": [
    "def inside(point,box):\n",
    "    if point[0]>=box[0][0] and point[0]<=box[2][0] and point[1]>=box[2][1] and point[1]<=box[0][1]:\n",
    "        return True\n",
    "    return False"
   ]
  },
  {
   "cell_type": "code",
   "execution_count": 9,
   "metadata": {},
   "outputs": [],
   "source": [
    "def get_language(tweet,grid):\n",
    "    valid = []\n",
    "    length = len(grid)\n",
    "    for i in range(0,length):\n",
    "        valid.append([])\n",
    "    for i in tweet:\n",
    "        try:\n",
    "            temp = json.loads(i)\n",
    "        except:\n",
    "            continue\n",
    "        if temp['doc']['coordinates'] != None:\n",
    "            point = temp['doc']['coordinates']['coordinates']\n",
    "            print(point)\n",
    "            for j in range(0,length):\n",
    "                if inside(point,grid[j]) is True:\n",
    "                    valid[j].append(temp['doc']['lang'])\n",
    "                    break\n",
    "    lang_count = []\n",
    "    for i in range(0,len(valid)):\n",
    "        lang_dict = {}\n",
    "        for j in valid[i]:\n",
    "            if j in lang_dict:\n",
    "                lang_dict[j]+=1\n",
    "            else:\n",
    "                lang_dict[j]=1\n",
    "        lang_count.append(lang_dict)\n",
    "    return lang_count"
   ]
  },
  {
   "cell_type": "code",
   "execution_count": 10,
   "metadata": {},
   "outputs": [],
   "source": [
    "#a = get_language(tweets,sydgrid)"
   ]
  },
  {
   "cell_type": "code",
   "execution_count": 11,
   "metadata": {},
   "outputs": [],
   "source": [
    "#print(sydgrid[0])"
   ]
  },
  {
   "cell_type": "code",
   "execution_count": 12,
   "metadata": {},
   "outputs": [],
   "source": [
    "#print(a)"
   ]
  },
  {
   "cell_type": "code",
   "execution_count": 13,
   "metadata": {
    "scrolled": true
   },
   "outputs": [
    {
     "name": "stdout",
     "output_type": "stream",
     "text": [
      "[151.211, -33.86]\n",
      "[151.20797, -33.86751]\n",
      "[{}, {}, {}, {}, {'en': 2}, {}, {}, {}, {}, {}, {}, {}, {}, {}, {}, {}]\n"
     ]
    }
   ],
   "source": [
    "while total_row>0:\n",
    "    tweets = []\n",
    "    lang = []\n",
    "    if total_row>1000:\n",
    "        tweets = read_tweets(twitter,1000)\n",
    "        total_row-=1000\n",
    "    else:\n",
    "        tweets = read_tweets(twitter,total_row)\n",
    "        total_row=0\n",
    "    lang = get_language(tweets,sydgrid)\n",
    "    main_dict = update_lang(main_dict,lang)\n",
    "print(main_dict)"
   ]
  },
  {
   "cell_type": "code",
   "execution_count": null,
   "metadata": {},
   "outputs": [],
   "source": []
  }
 ],
 "metadata": {
  "kernelspec": {
   "display_name": "Python 3",
   "language": "python",
   "name": "python3"
  },
  "language_info": {
   "codemirror_mode": {
    "name": "ipython",
    "version": 3
   },
   "file_extension": ".py",
   "mimetype": "text/x-python",
   "name": "python",
   "nbconvert_exporter": "python",
   "pygments_lexer": "ipython3",
   "version": "3.8.5"
  }
 },
 "nbformat": 4,
 "nbformat_minor": 4
}
