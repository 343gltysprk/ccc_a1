{
 "cells": [
  {
   "cell_type": "code",
   "execution_count": 3,
   "metadata": {},
   "outputs": [],
   "source": [
    "import json\n",
    "#this function read the coordinates of each grid\n",
    "def read_grids(file_path):\n",
    "    f = open(file_path,'r')\n",
    "    grids = json.load(f)\n",
    "    coordinates = []\n",
    "    for i in grids['features']:\n",
    "        coordinates.append(i['geometry']['coordinates'][0])\n",
    "    return coordinates\n",
    "    "
   ]
  },
  {
   "cell_type": "code",
   "execution_count": 6,
   "metadata": {},
   "outputs": [],
   "source": [
    "sydgrid = read_grids('sydGrid.json')\n",
    "#print(sydgrid)"
   ]
  },
  {
   "cell_type": "code",
   "execution_count": 52,
   "metadata": {},
   "outputs": [
    {
     "name": "stdout",
     "output_type": "stream",
     "text": [
      "{\"total_rows\":1000,\"rows\":[\n",
      "{\"total_rows\":1000,\"rows\":0}\n",
      "1000\n"
     ]
    }
   ],
   "source": [
    "twitter = open('tinyTwitter.json','r',errors='ignore')\n",
    "first = twitter.readline().strip()\n",
    "print(first)\n",
    "first = first[:-1]\n",
    "first += '0}'\n",
    "print(first)\n",
    "total_row = json.loads(first)['total_rows']\n",
    "print(total_row)"
   ]
  },
  {
   "cell_type": "code",
   "execution_count": null,
   "metadata": {},
   "outputs": [],
   "source": []
  }
 ],
 "metadata": {
  "kernelspec": {
   "display_name": "Python 3",
   "language": "python",
   "name": "python3"
  },
  "language_info": {
   "codemirror_mode": {
    "name": "ipython",
    "version": 3
   },
   "file_extension": ".py",
   "mimetype": "text/x-python",
   "name": "python",
   "nbconvert_exporter": "python",
   "pygments_lexer": "ipython3",
   "version": "3.8.5"
  }
 },
 "nbformat": 4,
 "nbformat_minor": 4
}
